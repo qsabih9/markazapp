{
 "cells": [
  {
   "cell_type": "code",
   "execution_count": 0,
   "metadata": {
    "application/vnd.databricks.v1+cell": {
     "cellMetadata": {
      "byteLimit": 2048000,
      "rowLimit": 10000
     },
     "inputWidgets": {},
     "nuid": "cb3a4ea2-4c16-4db0-b658-3860bb7978a6",
     "showTitle": false,
     "title": ""
    }
   },
   "outputs": [
    {
     "output_type": "execute_result",
     "data": {
      "text/html": [
       "\n",
       "            <div>\n",
       "                <p><b>SparkSession - hive</b></p>\n",
       "                \n",
       "        <div>\n",
       "            <p><b>SparkContext</b></p>\n",
       "\n",
       "            <p><a href=\"/?o=1104806034968759#setting/sparkui/1021-130841-yyueadhj/driver-2089376991141445721\">Spark UI</a></p>\n",
       "\n",
       "            <dl>\n",
       "              <dt>Version</dt>\n",
       "                <dd><code>v3.4.1</code></dd>\n",
       "              <dt>Master</dt>\n",
       "                <dd><code>local[*, 4]</code></dd>\n",
       "              <dt>AppName</dt>\n",
       "                <dd><code>Databricks Shell</code></dd>\n",
       "            </dl>\n",
       "        </div>\n",
       "        \n",
       "            </div>\n",
       "        "
      ],
      "text/plain": [
       "<pyspark.sql.session.SparkSession at 0x7f4f3cf0fd60>"
      ]
     },
     "execution_count": 23,
     "metadata": {},
     "output_type": "execute_result"
    }
   ],
   "source": [
    "spark"
   ]
  },
  {
   "cell_type": "code",
   "execution_count": 0,
   "metadata": {
    "application/vnd.databricks.v1+cell": {
     "cellMetadata": {
      "byteLimit": 2048000,
      "rowLimit": 10000
     },
     "inputWidgets": {},
     "nuid": "c8dd24bf-d728-42cf-9b1c-79af43ff3bdf",
     "showTitle": false,
     "title": ""
    }
   },
   "outputs": [
    {
     "output_type": "execute_result",
     "data": {
      "text/plain": [
       "True"
      ]
     },
     "execution_count": 24,
     "metadata": {},
     "output_type": "execute_result"
    }
   ],
   "source": [
    "dbutils.fs.mount(\n",
    "  source = \"wasbs://markazapp-etl@markazapp.blob.core.windows.net/\",\n",
    "  mount_point = \"/mnt/markazapp\",\n",
    "  extra_configs = {\n",
    " \"fs.azure.account.key.markazapp.blob.core.windows.net\": \"Jns0vGUn9QkXbiJgtmaiWTNl7HpKWP+MCLrsSUkKtn/Oi2xOIUAw/ud3ZHiyt5+24tMkTCXKnA3E+AStX8SM1A==\"\n",
    "  })"
   ]
  },
  {
   "cell_type": "code",
   "execution_count": 0,
   "metadata": {
    "application/vnd.databricks.v1+cell": {
     "cellMetadata": {
      "byteLimit": 2048000,
      "rowLimit": 10000
     },
     "inputWidgets": {},
     "nuid": "d446aa8f-d06f-4596-abec-344852786231",
     "showTitle": false,
     "title": ""
    }
   },
   "outputs": [
    {
     "output_type": "display_data",
     "data": {
      "text/html": [
       "<style scoped>\n",
       "  .table-result-container {\n",
       "    max-height: 300px;\n",
       "    overflow: auto;\n",
       "  }\n",
       "  table, th, td {\n",
       "    border: 1px solid black;\n",
       "    border-collapse: collapse;\n",
       "  }\n",
       "  th, td {\n",
       "    padding: 5px;\n",
       "  }\n",
       "  th {\n",
       "    text-align: left;\n",
       "  }\n",
       "</style><div class='table-result-container'><table class='table-result'><thead style='background-color: white'><tr><th>path</th><th>name</th><th>size</th><th>modificationTime</th></tr></thead><tbody><tr><td>dbfs:/mnt/markazapp/markazapp-raw/</td><td>markazapp-raw/</td><td>0</td><td>0</td></tr><tr><td>dbfs:/mnt/markazapp/markazapp-transformed/</td><td>markazapp-transformed/</td><td>0</td><td>0</td></tr></tbody></table></div>"
      ]
     },
     "metadata": {
      "application/vnd.databricks.v1+output": {
       "addedWidgets": {},
       "aggData": [],
       "aggError": "",
       "aggOverflow": false,
       "aggSchema": [],
       "aggSeriesLimitReached": false,
       "aggType": "",
       "arguments": {},
       "columnCustomDisplayInfos": {},
       "data": [
        [
         "dbfs:/mnt/markazapp/markazapp-raw/",
         "markazapp-raw/",
         0,
         0
        ],
        [
         "dbfs:/mnt/markazapp/markazapp-transformed/",
         "markazapp-transformed/",
         0,
         0
        ]
       ],
       "datasetInfos": [],
       "dbfsResultPath": null,
       "isJsonSchema": true,
       "metadata": {
        "isDbfsCommandResult": false
       },
       "overflow": false,
       "plotOptions": {
        "customPlotOptions": {},
        "displayType": "table",
        "pivotAggregation": null,
        "pivotColumns": null,
        "xColumns": null,
        "yColumns": null
       },
       "removedWidgets": [],
       "schema": [
        {
         "metadata": "{}",
         "name": "path",
         "type": "\"string\""
        },
        {
         "metadata": "{}",
         "name": "name",
         "type": "\"string\""
        },
        {
         "metadata": "{}",
         "name": "size",
         "type": "\"long\""
        },
        {
         "metadata": "{}",
         "name": "modificationTime",
         "type": "\"long\""
        }
       ],
       "type": "table"
      }
     },
     "output_type": "display_data"
    }
   ],
   "source": [
    "%fs\n",
    "ls \"/mnt/markazapp\""
   ]
  },
  {
   "cell_type": "code",
   "execution_count": 0,
   "metadata": {
    "application/vnd.databricks.v1+cell": {
     "cellMetadata": {
      "byteLimit": 2048000,
      "rowLimit": 10000
     },
     "inputWidgets": {},
     "nuid": "a7f11d10-02e2-4752-bc86-abf42a6a42f2",
     "showTitle": false,
     "title": ""
    }
   },
   "outputs": [
    {
     "output_type": "stream",
     "name": "stdout",
     "output_type": "stream",
     "text": [
      "+-----------+----------+-------------+--------+-------------+-----------+------+------------+\n|CUSTOMER_ID|PRODUCT_ID|PURCHASE_DATE|QUANTITY|PRODUCT_PRICE|TOTAL_PRICE|RATING|      REVIEW|\n+-----------+----------+-------------+--------+-------------+-----------+------+------------+\n|          1|         1|   2022-01-01|       2|        200.0|      400.0|   1.0|äll was good|\n|          2|         1|   2022-01-02|       1|        200.0|      200.0|   5.0|  heißen sie|\n|          3|         1|   2022-01-03|       2|        200.0|      400.0|   3.5|   æ was bad|\n|          4|         1|   2022-01-04|       3|        200.0|      600.0|   2.1|        çent|\n|          5|         2|   2022-01-05|       1|        350.0|      350.0|   4.2|  heißen sie|\n|          6|         2|   2022-01-06|       1|        350.0|      350.0|   2.1|   æ was bad|\n|          7|         2|   2022-01-07|       1|        350.0|      350.0|   2.2|äll was good|\n|          8|         2|   2022-01-08|       2|        350.0|      700.0|   3.1|  heißen sie|\n|          9|         4|   2022-01-09|       3|        450.0|     1350.0|   4.6|   æ was bad|\n|         10|         4|   2022-01-10|       3|        450.0|     1350.0|   1.8|äll was good|\n+-----------+----------+-------------+--------+-------------+-----------+------+------------+\nonly showing top 10 rows\n\n"
     ]
    }
   ],
   "source": [
    "transactions = spark.read.format(\"csv\").option(\"header\",\"true\").option(\"inferSchema\",\"true\").load(\"/mnt/markazapp/markazapp-raw/transactions.csv\")\n",
    "transactions.show(10)"
   ]
  },
  {
   "cell_type": "code",
   "execution_count": 0,
   "metadata": {
    "application/vnd.databricks.v1+cell": {
     "cellMetadata": {
      "byteLimit": 2048000,
      "rowLimit": 10000
     },
     "inputWidgets": {},
     "nuid": "a1b31dd8-d2b3-4d18-8dbf-f5662c7d9c24",
     "showTitle": false,
     "title": ""
    }
   },
   "outputs": [],
   "source": [
    "from pyspark.sql import SparkSession\n",
    "transactions.createOrReplaceTempView(\"transactions\")"
   ]
  },
  {
   "cell_type": "code",
   "execution_count": 0,
   "metadata": {
    "application/vnd.databricks.v1+cell": {
     "cellMetadata": {
      "byteLimit": 2048000,
      "rowLimit": 10000
     },
     "inputWidgets": {},
     "nuid": "d6f8c1c3-0196-4a04-9253-945b480951eb",
     "showTitle": false,
     "title": ""
    }
   },
   "outputs": [
    {
     "output_type": "stream",
     "name": "stdout",
     "output_type": "stream",
     "text": [
      "+-------------+\n|purchase_date|\n+-------------+\n|   2022-01-01|\n|   2022-01-02|\n|   2022-01-03|\n|   2022-01-04|\n|   2022-01-05|\n+-------------+\nonly showing top 5 rows\n\n"
     ]
    }
   ],
   "source": [
    "spark.sql(\"SELECT cast(purchase_date as date) FROM transactions\").show(5)"
   ]
  },
  {
   "cell_type": "code",
   "execution_count": 0,
   "metadata": {
    "application/vnd.databricks.v1+cell": {
     "cellMetadata": {
      "byteLimit": 2048000,
      "implicitDf": true,
      "rowLimit": 10000
     },
     "inputWidgets": {},
     "nuid": "53082013-27dc-4f4b-8f1f-bf7ca172cbac",
     "showTitle": false,
     "title": ""
    }
   },
   "outputs": [
    {
     "output_type": "display_data",
     "data": {
      "text/html": [
       "<style scoped>\n",
       "  .table-result-container {\n",
       "    max-height: 300px;\n",
       "    overflow: auto;\n",
       "  }\n",
       "  table, th, td {\n",
       "    border: 1px solid black;\n",
       "    border-collapse: collapse;\n",
       "  }\n",
       "  th, td {\n",
       "    padding: 5px;\n",
       "  }\n",
       "  th {\n",
       "    text-align: left;\n",
       "  }\n",
       "</style><div class='table-result-container'><table class='table-result'><thead style='background-color: white'><tr><th>product_id</th></tr></thead><tbody><tr><td>1</td></tr><tr><td>6</td></tr><tr><td>5</td></tr><tr><td>9</td></tr><tr><td>4</td></tr><tr><td>8</td></tr><tr><td>7</td></tr><tr><td>10</td></tr><tr><td>2</td></tr></tbody></table></div>"
      ]
     },
     "metadata": {
      "application/vnd.databricks.v1+output": {
       "addedWidgets": {},
       "aggData": [],
       "aggError": "",
       "aggOverflow": false,
       "aggSchema": [],
       "aggSeriesLimitReached": false,
       "aggType": "",
       "arguments": {},
       "columnCustomDisplayInfos": {},
       "data": [
        [
         1
        ],
        [
         6
        ],
        [
         5
        ],
        [
         9
        ],
        [
         4
        ],
        [
         8
        ],
        [
         7
        ],
        [
         10
        ],
        [
         2
        ]
       ],
       "datasetInfos": [],
       "dbfsResultPath": null,
       "isJsonSchema": true,
       "metadata": {
        "dataframeName": "_sqldf",
        "executionCount": 28
       },
       "overflow": false,
       "plotOptions": {
        "customPlotOptions": {},
        "displayType": "table",
        "pivotAggregation": null,
        "pivotColumns": null,
        "xColumns": null,
        "yColumns": null
       },
       "removedWidgets": [],
       "schema": [
        {
         "metadata": "{}",
         "name": "product_id",
         "type": "\"integer\""
        }
       ],
       "type": "table"
      }
     },
     "output_type": "display_data"
    }
   ],
   "source": [
    "%sql\n",
    "select distinct product_id from transactions"
   ]
  },
  {
   "cell_type": "code",
   "execution_count": 0,
   "metadata": {
    "application/vnd.databricks.v1+cell": {
     "cellMetadata": {
      "byteLimit": 2048000,
      "rowLimit": 10000
     },
     "inputWidgets": {},
     "nuid": "8e104ce1-46ed-4e35-8f40-4d2fdd800ecc",
     "showTitle": false,
     "title": ""
    }
   },
   "outputs": [],
   "source": [
    "from pyspark.sql.functions import col, sum, avg, count, expr, col, to_date"
   ]
  },
  {
   "cell_type": "code",
   "execution_count": 0,
   "metadata": {
    "application/vnd.databricks.v1+cell": {
     "cellMetadata": {
      "byteLimit": 2048000,
      "rowLimit": 10000
     },
     "inputWidgets": {},
     "nuid": "f751d004-230d-456d-860d-21ed9a7f488b",
     "showTitle": false,
     "title": ""
    }
   },
   "outputs": [
    {
     "output_type": "stream",
     "name": "stdout",
     "output_type": "stream",
     "text": [
      "root\n |-- CUSTOMER_ID: integer (nullable = true)\n |-- PRODUCT_ID: integer (nullable = true)\n |-- PURCHASE_DATE: date (nullable = true)\n |-- QUANTITY: integer (nullable = true)\n |-- PRODUCT_PRICE: double (nullable = true)\n |-- TOTAL_PRICE: double (nullable = true)\n |-- RATING: double (nullable = true)\n |-- REVIEW: string (nullable = true)\n\n+----------+\n|PRODUCT_ID|\n+----------+\n|         1|\n|         6|\n|         5|\n|         9|\n|         4|\n|         8|\n|         7|\n|        10|\n|         2|\n+----------+\n\n"
     ]
    }
   ],
   "source": [
    "transactions.printSchema()\n",
    "\n",
    "transactions.select(\"PRODUCT_ID\").distinct().show()"
   ]
  },
  {
   "cell_type": "code",
   "execution_count": 0,
   "metadata": {
    "application/vnd.databricks.v1+cell": {
     "cellMetadata": {
      "byteLimit": 2048000,
      "rowLimit": 10000
     },
     "inputWidgets": {},
     "nuid": "782fd2a5-55ed-4c06-a8ec-2226ed406aad",
     "showTitle": false,
     "title": ""
    }
   },
   "outputs": [
    {
     "output_type": "stream",
     "name": "stdout",
     "output_type": "stream",
     "text": [
      "+-----------+----------+-------------+--------+-------------+-----------+------+------+\n|CUSTOMER_ID|PRODUCT_ID|PURCHASE_DATE|QUANTITY|PRODUCT_PRICE|TOTAL_PRICE|RATING|REVIEW|\n+-----------+----------+-------------+--------+-------------+-----------+------+------+\n|          4|         1|   2022-01-04|       3|        200.0|      600.0|   2.1|  çent|\n+-----------+----------+-------------+--------+-------------+-----------+------+------+\n\n"
     ]
    }
   ],
   "source": [
    "# Filter data for a specific product_id, e.g., product_id 1 with more than 2 order quantity\n",
    "filtered_df = transactions.filter((transactions.PRODUCT_ID == 1) & (transactions.QUANTITY > 2))\n",
    "filtered_df.show()"
   ]
  },
  {
   "cell_type": "code",
   "execution_count": 0,
   "metadata": {
    "application/vnd.databricks.v1+cell": {
     "cellMetadata": {
      "byteLimit": 2048000,
      "rowLimit": 10000
     },
     "inputWidgets": {},
     "nuid": "ebb8f630-680f-4a8f-8524-cbb4ed507cb9",
     "showTitle": false,
     "title": ""
    }
   },
   "outputs": [
    {
     "output_type": "stream",
     "name": "stdout",
     "output_type": "stream",
     "text": [
      "+-----------+----------+-------------+--------+-------------+-----------+------+------------+----------------+\n|CUSTOMER_ID|PRODUCT_ID|PURCHASE_DATE|QUANTITY|PRODUCT_PRICE|TOTAL_PRICE|RATING|      REVIEW|PRODUCT_CATEGORY|\n+-----------+----------+-------------+--------+-------------+-----------+------+------------+----------------+\n|          1|         1|   2022-01-01|       2|        200.0|      400.0|   1.0|äll was good|   Mobile phones|\n|          2|         1|   2022-01-02|       1|        200.0|      200.0|   5.0|  heißen sie|   Mobile phones|\n|          3|         1|   2022-01-03|       2|        200.0|      400.0|   3.5|   æ was bad|   Mobile phones|\n|          4|         1|   2022-01-04|       3|        200.0|      600.0|   2.1|        çent|   Mobile phones|\n|          5|         2|   2022-01-05|       1|        350.0|      350.0|   4.2|  heißen sie|   Game consoles|\n+-----------+----------+-------------+--------+-------------+-----------+------+------------+----------------+\nonly showing top 5 rows\n\n"
     ]
    }
   ],
   "source": [
    "# Adding PRODUCT_CATEGORY column based on PRODUCT_ID value\n",
    "\n",
    "transactions = transactions.withColumn(\n",
    "    \"PRODUCT_CATEGORY\",\n",
    "    expr(\"\"\"\n",
    "        CASE \n",
    "            WHEN PRODUCT_ID = 1 THEN 'Mobile phones'\n",
    "            WHEN PRODUCT_ID = 2 THEN 'Game consoles'\n",
    "            WHEN PRODUCT_ID = 3 THEN 'Household furniture'\n",
    "            WHEN PRODUCT_ID = 4 THEN 'Home appliances'\n",
    "            WHEN PRODUCT_ID = 5 THEN 'Clothing'\n",
    "            WHEN PRODUCT_ID = 6 THEN 'Snow Sports'\n",
    "            WHEN PRODUCT_ID = 7 THEN 'Camping & Hiking'\n",
    "            WHEN PRODUCT_ID = 8 THEN 'Yard Games'\n",
    "            WHEN PRODUCT_ID = 9 THEN 'Make-up'\n",
    "            WHEN PRODUCT_ID = 10 THEN 'Beauty'\n",
    "            ELSE 'Others'\n",
    "        END\n",
    "    \"\"\")\n",
    ")\n",
    "\n",
    "# Display the DataFrame with the new 'product_category' column\n",
    "transactions.show(5)"
   ]
  },
  {
   "cell_type": "code",
   "execution_count": 0,
   "metadata": {
    "application/vnd.databricks.v1+cell": {
     "cellMetadata": {
      "byteLimit": 2048000,
      "rowLimit": 10000
     },
     "inputWidgets": {},
     "nuid": "262e9ae3-663c-49af-8c41-f994939cec60",
     "showTitle": false,
     "title": ""
    }
   },
   "outputs": [
    {
     "output_type": "stream",
     "name": "stdout",
     "output_type": "stream",
     "text": [
      "root\n |-- CUSTOMER_ID: integer (nullable = true)\n |-- PRODUCT_ID: integer (nullable = true)\n |-- PURCHASE_DATE: date (nullable = true)\n |-- QUANTITY: integer (nullable = true)\n |-- PRODUCT_PRICE: double (nullable = true)\n |-- TOTAL_PRICE: double (nullable = true)\n |-- RATING: double (nullable = true)\n |-- REVIEW: string (nullable = true)\n |-- PRODUCT_CATEGORY: string (nullable = false)\n\n+-----------+----------+-------------+--------+-------------+-----------+------+------------+----------------+\n|CUSTOMER_ID|PRODUCT_ID|PURCHASE_DATE|QUANTITY|PRODUCT_PRICE|TOTAL_PRICE|RATING|      REVIEW|PRODUCT_CATEGORY|\n+-----------+----------+-------------+--------+-------------+-----------+------+------------+----------------+\n|          1|         1|   2022-01-01|       2|        200.0|      400.0|   1.0|äll was good|   Mobile phones|\n|          2|         1|   2022-01-02|       1|        200.0|      200.0|   5.0|  heißen sie|   Mobile phones|\n|          3|         1|   2022-01-03|       2|        200.0|      400.0|   3.5|   æ was bad|   Mobile phones|\n|          4|         1|   2022-01-04|       3|        200.0|      600.0|   2.1|        çent|   Mobile phones|\n|          5|         2|   2022-01-05|       1|        350.0|      350.0|   4.2|  heißen sie|   Game consoles|\n|          6|         2|   2022-01-06|       1|        350.0|      350.0|   2.1|   æ was bad|   Game consoles|\n|          7|         2|   2022-01-07|       1|        350.0|      350.0|   2.2|äll was good|   Game consoles|\n|          8|         2|   2022-01-08|       2|        350.0|      700.0|   3.1|  heißen sie|   Game consoles|\n|          9|         4|   2022-01-09|       3|        450.0|     1350.0|   4.6|   æ was bad| Home appliances|\n|         10|         4|   2022-01-10|       3|        450.0|     1350.0|   1.8|äll was good| Home appliances|\n|         11|         4|   2022-01-11|       1|        450.0|      450.0|  2.98|  heißen sie| Home appliances|\n|         12|         4|   2022-01-12|       2|        450.0|      900.0|  2.98|   æ was bad| Home appliances|\n|         13|        10|   2022-01-13|       3|       1050.0|     3150.0|  2.99|äll was good|          Beauty|\n|         14|         5|   2022-01-14|       1|        100.0|      100.0|  2.99|  heißen sie|        Clothing|\n|         15|         5|   2022-01-15|       1|        100.0|      100.0|  2.99|   æ was bad|        Clothing|\n|         16|         5|   2022-01-16|       1|        100.0|      100.0|   3.0|äll was good|        Clothing|\n|         17|         5|   2022-01-17|       1|        100.0|      100.0|   3.0|  heißen sie|        Clothing|\n|         18|         5|   2022-01-18|       1|        100.0|      100.0|  3.01|   æ was bad|        Clothing|\n|         19|         6|   2022-01-19|       1|         75.0|       75.0|  3.01|äll was good|     Snow Sports|\n|         20|         6|   2022-01-20|       1|         75.0|       75.0|  3.01|  heißen sie|     Snow Sports|\n|         21|         6|   2022-01-21|       2|         75.0|      150.0|  3.02|   æ was bad|     Snow Sports|\n|         22|         6|   2022-01-22|       1|         75.0|       75.0|  3.02|äll was good|     Snow Sports|\n|         23|         7|   2022-01-23|       3|        133.0|      399.0|  3.02|  heißen sie|Camping & Hiking|\n|         24|         8|   2022-01-24|       4|        243.0|      972.0|  3.03|   æ was bad|      Yard Games|\n|         25|         9|   2022-01-25|       1|        900.0|      900.0|  3.03|äll was good|         Make-up|\n|         26|         9|   2022-01-26|       2|        900.0|     1800.0|  3.03|  heißen sie|         Make-up|\n+-----------+----------+-------------+--------+-------------+-----------+------+------------+----------------+\n\n"
     ]
    }
   ],
   "source": [
    "# convert purchase_date to date datatype\n",
    "transactions = transactions.withColumn(\n",
    "    \"PURCHASE_DATE\",\n",
    "    to_date(col(\"PURCHASE_DATE\"), \"dd-MM-yyyy\")\n",
    ")\n",
    "\n",
    "transactions.printSchema()\n",
    "\n",
    "transactions.show(30)"
   ]
  },
  {
   "cell_type": "code",
   "execution_count": 0,
   "metadata": {
    "application/vnd.databricks.v1+cell": {
     "cellMetadata": {
      "byteLimit": 2048000,
      "rowLimit": 10000
     },
     "inputWidgets": {},
     "nuid": "137c1a88-d276-43b1-9c6d-294c3642eba9",
     "showTitle": false,
     "title": ""
    }
   },
   "outputs": [
    {
     "output_type": "stream",
     "name": "stdout",
     "output_type": "stream",
     "text": [
      "+----------------+-------------+\n|PRODUCT_CATEGORY|TOTAL_REVENUE|\n+----------------+-------------+\n|Camping & Hiking|        399.0|\n|         Make-up|       2700.0|\n|   Game consoles|       1750.0|\n|      Yard Games|        972.0|\n|        Clothing|        500.0|\n| Home appliances|       4050.0|\n|   Mobile phones|       1600.0|\n|     Snow Sports|        375.0|\n|          Beauty|       3150.0|\n+----------------+-------------+\n\n"
     ]
    }
   ],
   "source": [
    "# Calculate the total revenue for each product category\n",
    "revenue_per_product = transactions.groupBy(\"PRODUCT_CATEGORY\").agg(sum(\"TOTAL_PRICE\").alias(\"TOTAL_REVENUE\"))\n",
    "revenue_per_product.show()"
   ]
  },
  {
   "cell_type": "code",
   "execution_count": 0,
   "metadata": {
    "application/vnd.databricks.v1+cell": {
     "cellMetadata": {
      "byteLimit": 2048000,
      "rowLimit": 10000
     },
     "inputWidgets": {},
     "nuid": "d233099e-e5a2-4855-a4f3-f0f7f88d4a45",
     "showTitle": false,
     "title": ""
    }
   },
   "outputs": [
    {
     "output_type": "stream",
     "name": "stdout",
     "output_type": "stream",
     "text": [
      "+----------------+------------+\n|PRODUCT_CATEGORY|TOTAL_ORDERS|\n+----------------+------------+\n|Camping & Hiking|           1|\n|         Make-up|           2|\n|   Game consoles|           4|\n|      Yard Games|           1|\n|        Clothing|           5|\n| Home appliances|           4|\n|   Mobile phones|           4|\n|     Snow Sports|           4|\n|          Beauty|           1|\n+----------------+------------+\n\n"
     ]
    }
   ],
   "source": [
    "# Count the number of purchases for each product category\n",
    "total_orders_per_category = transactions.groupBy(\"PRODUCT_CATEGORY\").agg(count(\"PURCHASE_DATE\").alias(\"TOTAL_ORDERS\"))\n",
    "total_orders_per_category.show()"
   ]
  },
  {
   "cell_type": "code",
   "execution_count": 0,
   "metadata": {
    "application/vnd.databricks.v1+cell": {
     "cellMetadata": {
      "byteLimit": 2048000,
      "rowLimit": 10000
     },
     "inputWidgets": {},
     "nuid": "5828c381-0b5d-43d6-936a-cb87b364b63f",
     "showTitle": false,
     "title": ""
    }
   },
   "outputs": [
    {
     "output_type": "stream",
     "name": "stdout",
     "output_type": "stream",
     "text": [
      "+-------+------------------+\n|summary|            RATING|\n+-------+------------------+\n|  count|                26|\n|   mean| 2.988846153846154|\n| stddev|0.7990510718249587|\n|    min|               1.0|\n|    max|               5.0|\n+-------+------------------+\n\n"
     ]
    }
   ],
   "source": [
    "# Statistics on RATING column\n",
    "rating_stats = transactions.select(\"RATING\").describe()\n",
    "rating_stats.show()"
   ]
  },
  {
   "cell_type": "code",
   "execution_count": 0,
   "metadata": {
    "application/vnd.databricks.v1+cell": {
     "cellMetadata": {
      "byteLimit": 2048000,
      "rowLimit": 10000
     },
     "inputWidgets": {},
     "nuid": "f62919b1-3703-4b7a-90df-3a3a2d3a9004",
     "showTitle": false,
     "title": ""
    }
   },
   "outputs": [
    {
     "output_type": "stream",
     "name": "stdout",
     "output_type": "stream",
     "text": [
      "+----------------+----------+------------+\n|PRODUCT_CATEGORY|AVG_RATING|TOTAL_ORCERS|\n+----------------+----------+------------+\n|Camping & Hiking|      3.02|           1|\n|         Make-up|      3.03|           2|\n|   Game consoles|      2.90|           4|\n|      Yard Games|      3.03|           1|\n|        Clothing|      3.00|           5|\n| Home appliances|      3.09|           4|\n|   Mobile phones|      2.90|           4|\n|     Snow Sports|      3.01|           4|\n|          Beauty|      2.99|           1|\n+----------------+----------+------------+\n\n"
     ]
    }
   ],
   "source": [
    "# Calculate the average review ratings for each product\n",
    "average_ratings = transactions.groupBy(\"PRODUCT_CATEGORY\").agg(\n",
    "    avg(col(\"RATING\")).alias(\"AVG_RATING\"),\n",
    "    count(\"*\").alias(\"TOTAL_ORCERS\")\n",
    ")\n",
    "average_ratings = average_ratings.withColumn(\"AVG_RATING\", average_ratings[\"AVG_RATING\"].cast(\"decimal(38,2)\"))\n",
    "average_ratings.show()"
   ]
  },
  {
   "cell_type": "code",
   "execution_count": 0,
   "metadata": {
    "application/vnd.databricks.v1+cell": {
     "cellMetadata": {
      "byteLimit": 2048000,
      "rowLimit": 10000
     },
     "inputWidgets": {},
     "nuid": "326dfb38-e842-40d6-a3fa-0c07e47e3738",
     "showTitle": false,
     "title": ""
    }
   },
   "outputs": [],
   "source": [
    "# write transformed data to files\n",
    "transactions.repartition(1).write.mode(\"overwrite\").option(\"header\",'true').csv(\"/mnt/markazapp/markazapp-transformed/transactions\")\n",
    "revenue_per_product.repartition(1).write.mode(\"overwrite\").option(\"header\",'true').csv(\"/mnt/markazapp/markazapp-transformed/revenue_per_product\")\n",
    "total_orders_per_category.repartition(1).write.mode(\"overwrite\").option(\"header\",'true').csv(\"/mnt/markazapp/markazapp-transformed/total_orders_per_category\")\n",
    "rating_stats.repartition(1).write.mode(\"overwrite\").option(\"header\",'true').csv(\"/mnt/markazapp/markazapp-transformed/rating_stats\")\n",
    "average_ratings.repartition(1).write.mode(\"overwrite\").option(\"header\",'true').csv(\"/mnt/markazapp/markazapp-transformed/average_ratings\")\n"
   ]
  },
  {
   "cell_type": "code",
   "execution_count": 0,
   "metadata": {
    "application/vnd.databricks.v1+cell": {
     "cellMetadata": {
      "byteLimit": 2048000,
      "rowLimit": 10000
     },
     "inputWidgets": {},
     "nuid": "7e7ce323-73a8-414d-b59a-e4564c0b1602",
     "showTitle": false,
     "title": ""
    }
   },
   "outputs": [
    {
     "output_type": "stream",
     "name": "stdout",
     "output_type": "stream",
     "text": [
      "/mnt/markazapp has been unmounted.\n"
     ]
    },
    {
     "output_type": "execute_result",
     "data": {
      "text/plain": [
       "True"
      ]
     },
     "execution_count": 39,
     "metadata": {},
     "output_type": "execute_result"
    }
   ],
   "source": [
    "dbutils.fs.unmount(\"/mnt/markazapp\")"
   ]
  },
  {
   "cell_type": "code",
   "execution_count": 0,
   "metadata": {
    "application/vnd.databricks.v1+cell": {
     "cellMetadata": {
      "byteLimit": 2048000,
      "rowLimit": 10000
     },
     "inputWidgets": {},
     "nuid": "b3499c52-03b0-482c-8f89-a566c7099f34",
     "showTitle": false,
     "title": ""
    }
   },
   "outputs": [],
   "source": []
  }
 ],
 "metadata": {
  "application/vnd.databricks.v1+notebook": {
   "dashboards": [],
   "language": "python",
   "notebookMetadata": {
    "mostRecentlyExecutedCommandWithImplicitDF": {
     "commandId": 3467521490379865,
     "dataframes": [
      "_sqldf"
     ]
    },
    "pythonIndentUnit": 4
   },
   "notebookName": "MarkazApp ETL",
   "widgets": {}
  }
 },
 "nbformat": 4,
 "nbformat_minor": 0
}
